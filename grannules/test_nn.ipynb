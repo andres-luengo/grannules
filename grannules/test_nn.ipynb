{
 "cells": [
  {
   "cell_type": "code",
   "execution_count": 15,
   "metadata": {},
   "outputs": [
    {
     "name": "stdout",
     "output_type": "stream",
     "text": [
      "The autoreload extension is already loaded. To reload it, use:\n",
      "  %reload_ext autoreload\n"
     ]
    }
   ],
   "source": [
    "%load_ext autoreload\n",
    "%autoreload 2"
   ]
  },
  {
   "cell_type": "code",
   "execution_count": 16,
   "metadata": {},
   "outputs": [],
   "source": [
    "import grannules"
   ]
  },
  {
   "cell_type": "code",
   "execution_count": 17,
   "metadata": {},
   "outputs": [],
   "source": [
    "p = grannules.NNPredictor.from_pickle(\"nn.pkl\")"
   ]
  },
  {
   "cell_type": "code",
   "execution_count": 18,
   "metadata": {},
   "outputs": [
    {
     "name": "stdout",
     "output_type": "stream",
     "text": [
      "transform_dict = {'X_scale': Array([0.3143503 , 0.19897008, 0.05746365, 0.35999998, 1.6487503 ,\n",
      "       1.        ], dtype=float32), 'X_center': Array([ 0.2546422,  2.3869262,  8.491055 , -0.1      , 12.77     ,\n",
      "        2.       ], dtype=float32), 'y_scale': Array([1.1468716 , 1.0460844 , 0.36906528, 0.30403006], dtype=float32), 'y_center': Array([10.117321 ,  9.5391865,  9.116243 ,  1.1014184], dtype=float32)}\n"
     ]
    }
   ],
   "source": [
    "p = grannules.NNPredictor.get_default_predictor()"
   ]
  },
  {
   "cell_type": "code",
   "execution_count": 19,
   "metadata": {},
   "outputs": [
    {
     "data": {
      "application/vnd.microsoft.datawrangler.viewer.v0+json": {
       "columns": [
        {
         "name": "index",
         "rawType": "int64",
         "type": "integer"
        },
        {
         "name": "M",
         "rawType": "float64",
         "type": "float"
        },
        {
         "name": "R",
         "rawType": "int64",
         "type": "integer"
        },
        {
         "name": "Teff",
         "rawType": "int64",
         "type": "integer"
        },
        {
         "name": "KepMag",
         "rawType": "int64",
         "type": "integer"
        },
        {
         "name": "FeH",
         "rawType": "float64",
         "type": "float"
        },
        {
         "name": "phase",
         "rawType": "int64",
         "type": "integer"
        }
       ],
       "conversionMethod": "pd.DataFrame",
       "ref": "ceba5604-0ba2-41af-9330-322872f9d1f9",
       "rows": [
        [
         "0",
         "0.8",
         "2",
         "4500",
         "12",
         "-1.5",
         "0"
        ]
       ],
       "shape": {
        "columns": 6,
        "rows": 1
       }
      },
      "text/html": [
       "<div>\n",
       "<style scoped>\n",
       "    .dataframe tbody tr th:only-of-type {\n",
       "        vertical-align: middle;\n",
       "    }\n",
       "\n",
       "    .dataframe tbody tr th {\n",
       "        vertical-align: top;\n",
       "    }\n",
       "\n",
       "    .dataframe thead th {\n",
       "        text-align: right;\n",
       "    }\n",
       "</style>\n",
       "<table border=\"1\" class=\"dataframe\">\n",
       "  <thead>\n",
       "    <tr style=\"text-align: right;\">\n",
       "      <th></th>\n",
       "      <th>M</th>\n",
       "      <th>R</th>\n",
       "      <th>Teff</th>\n",
       "      <th>KepMag</th>\n",
       "      <th>FeH</th>\n",
       "      <th>phase</th>\n",
       "    </tr>\n",
       "  </thead>\n",
       "  <tbody>\n",
       "    <tr>\n",
       "      <th>0</th>\n",
       "      <td>0.8</td>\n",
       "      <td>2</td>\n",
       "      <td>4500</td>\n",
       "      <td>12</td>\n",
       "      <td>-1.5</td>\n",
       "      <td>0</td>\n",
       "    </tr>\n",
       "  </tbody>\n",
       "</table>\n",
       "</div>"
      ],
      "text/plain": [
       "     M  R  Teff  KepMag  FeH  phase\n",
       "0  0.8  2  4500      12 -1.5      0"
      ]
     },
     "execution_count": 19,
     "metadata": {},
     "output_type": "execute_result"
    }
   ],
   "source": [
    "import pandas as pd\n",
    "X = pd.DataFrame({\n",
    "        \"M\": [0.8],\n",
    "        \"R\": [2],\n",
    "        \"Teff\": [4500],\n",
    "        \"KepMag\": [12],\n",
    "        \"FeH\": [-1.5],\n",
    "        \"phase\" : [0]\n",
    "})\n",
    "X"
   ]
  },
  {
   "cell_type": "code",
   "execution_count": 22,
   "metadata": {},
   "outputs": [
    {
     "data": {
      "application/vnd.microsoft.datawrangler.viewer.v0+json": {
       "columns": [
        {
         "name": "index",
         "rawType": "int64",
         "type": "integer"
        },
        {
         "name": "H",
         "rawType": "float32",
         "type": "float"
        },
        {
         "name": "P",
         "rawType": "float32",
         "type": "float"
        },
        {
         "name": "tau",
         "rawType": "float32",
         "type": "float"
        },
        {
         "name": "alpha",
         "rawType": "float32",
         "type": "float"
        }
       ],
       "conversionMethod": "pd.DataFrame",
       "ref": "164eefc3-f366-4b01-9de1-27870402d26b",
       "rows": [
        [
         "0",
         "17045.197",
         "9910.86",
         "9034.102",
         "2.1222527"
        ]
       ],
       "shape": {
        "columns": 4,
        "rows": 1
       }
      },
      "text/html": [
       "<div>\n",
       "<style scoped>\n",
       "    .dataframe tbody tr th:only-of-type {\n",
       "        vertical-align: middle;\n",
       "    }\n",
       "\n",
       "    .dataframe tbody tr th {\n",
       "        vertical-align: top;\n",
       "    }\n",
       "\n",
       "    .dataframe thead th {\n",
       "        text-align: right;\n",
       "    }\n",
       "</style>\n",
       "<table border=\"1\" class=\"dataframe\">\n",
       "  <thead>\n",
       "    <tr style=\"text-align: right;\">\n",
       "      <th></th>\n",
       "      <th>H</th>\n",
       "      <th>P</th>\n",
       "      <th>tau</th>\n",
       "      <th>alpha</th>\n",
       "    </tr>\n",
       "  </thead>\n",
       "  <tbody>\n",
       "    <tr>\n",
       "      <th>0</th>\n",
       "      <td>17045.197266</td>\n",
       "      <td>9910.860352</td>\n",
       "      <td>9034.101562</td>\n",
       "      <td>2.122253</td>\n",
       "    </tr>\n",
       "  </tbody>\n",
       "</table>\n",
       "</div>"
      ],
      "text/plain": [
       "              H            P          tau     alpha\n",
       "0  17045.197266  9910.860352  9034.101562  2.122253"
      ]
     },
     "execution_count": 22,
     "metadata": {},
     "output_type": "execute_result"
    }
   ],
   "source": [
    "r = p.predict(X, True)\n",
    "r"
   ]
  }
 ],
 "metadata": {
  "kernelspec": {
   "display_name": "astro",
   "language": "python",
   "name": "python3"
  },
  "language_info": {
   "codemirror_mode": {
    "name": "ipython",
    "version": 3
   },
   "file_extension": ".py",
   "mimetype": "text/x-python",
   "name": "python",
   "nbconvert_exporter": "python",
   "pygments_lexer": "ipython3",
   "version": "3.12.2"
  }
 },
 "nbformat": 4,
 "nbformat_minor": 2
}
